{
 "cells": [
  {
   "cell_type": "code",
   "execution_count": 1,
   "metadata": {},
   "outputs": [],
   "source": [
    "#Build core module"
   ]
  },
  {
   "cell_type": "markdown",
   "metadata": {},
   "source": [
    "# Output ROI thumbnails"
   ]
  },
  {
   "cell_type": "code",
   "execution_count": 79,
   "metadata": {},
   "outputs": [],
   "source": [
    "outpath = \"/Volumes/Elements/nanostring_hackaton/out_ROI/\"#\"/Volumes/Elements/nanostring_hackaton/H_and_E/output_wc/\"\n",
    "relevant_path = \"/Volumes/Elements/nanostring_hackaton/ROI reports/\""
   ]
  },
  {
   "cell_type": "code",
   "execution_count": 115,
   "metadata": {},
   "outputs": [
    {
     "name": "stdout",
     "output_type": "stream",
     "text": [
      "disease2B_scan\n",
      "disease4_scan\n",
      "disease1B_scan\n",
      "disease3_scan\n",
      "normal2B_scan\n",
      "normal3_scan\n",
      "normal4_scan\n"
     ]
    }
   ],
   "source": [
    "from pathlib import Path\n",
    "from plotly.offline import plot\n",
    "import pandas as pd\n",
    "import plotly.graph_objs as go\n",
    "import os\n",
    "import openslide\n",
    "import re\n",
    "from PIL import Image\n",
    "import shutil\n",
    "\n",
    "outpath =  Path(outpath)\n",
    "if not outpath.exists():\n",
    "    os.mkdir(outpath)\n",
    "excluded_extensions = [\".zip\"]\n",
    "excluded_str = [\"._\"]\n",
    "file_path = [fn for fn in os.listdir(relevant_path) if any(not fn.endswith(ext) for ext in excluded_extensions)]\n",
    "file_path = [fn for fn in file_path if any(not fn.startswith(ext) for ext in excluded_str)]\n",
    "\n",
    "\n",
    "for z in file_path:\n",
    "    print(z)\n",
    "    if not Path(str(outpath) + \"/\" + z+ \"/thumbnails/\").exists():\n",
    "        os.makedirs((str(outpath) + \"/\" + z+ \"/thumbnails/\"))\n",
    "       #Copy from filder into new directory\n",
    "    if not Path(str(outpath) + \"/\" + z+ \"/images/\").exists():\n",
    "        os.makedirs((str(outpath) + \"/\" + z+ \"/images/\"))\n",
    "        \n",
    "    temp_path = relevant_path +z\n",
    "    excluded_str = [\"._\"]\n",
    "    excluded_ext = [\".html\"]\n",
    "    files = [fn for fn in os.listdir(temp_path) if any(not fn.startswith(ext) for ext in excluded_str)]\n",
    "    files = [fn for fn in files if any(not fn.endswith(ext) for ext in excluded_ext)]\n",
    "    files_temp_path = [temp_path + s for s in files]\n",
    "    size = (120,360)\n",
    "    for image in files:\n",
    "        image_path = temp_path+ \"/\" +image\n",
    "        im = Image.open(image_path)\n",
    "        im.thumbnail(size)\n",
    "        im.save(str(outpath) + \"/\" + z + \"/thumbnails/\" + image)\n",
    "    for image in files:\n",
    "        image_path = temp_path+ \"/\" +image\n",
    "        im = Image.open(image_path)\n",
    "        im.thumbnail((600,1200))\n",
    "        im.save(str(outpath) + \"/\" + z + \"/images/\" + image)    \n",
    "        \n",
    "        ##Copy original images into acorrect positions\n",
    "        #image_full_out_path = str(outpath) + \"/\" + z + \"/images/\"\n",
    "        #shutil.copy(image_path,image_full_out_path)"
   ]
  },
  {
   "cell_type": "code",
   "execution_count": null,
   "metadata": {},
   "outputs": [],
   "source": []
  }
 ],
 "metadata": {
  "kernelspec": {
   "display_name": "Python 3",
   "language": "python",
   "name": "python3"
  },
  "language_info": {
   "codemirror_mode": {
    "name": "ipython",
    "version": 3
   },
   "file_extension": ".py",
   "mimetype": "text/x-python",
   "name": "python",
   "nbconvert_exporter": "python",
   "pygments_lexer": "ipython3",
   "version": "3.7.1"
  }
 },
 "nbformat": 4,
 "nbformat_minor": 2
}
