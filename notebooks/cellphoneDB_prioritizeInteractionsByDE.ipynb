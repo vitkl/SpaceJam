{
 "cells": [
  {
   "cell_type": "markdown",
   "id": "tracked-apparatus",
   "metadata": {},
   "source": [
    "Prioritize interactions based on most differentially expressed genes and celltypes present in different types of ROIs"
   ]
  },
  {
   "cell_type": "code",
   "execution_count": 1,
   "id": "third-moment",
   "metadata": {},
   "outputs": [],
   "source": [
    "import scanpy as sc\n",
    "import anndata\n",
    "import pandas as pd\n",
    "import numpy as np\n",
    "import plotly.graph_objects as go\n",
    "from random import randint"
   ]
  },
  {
   "cell_type": "code",
   "execution_count": 2,
   "id": "computational-pressing",
   "metadata": {},
   "outputs": [],
   "source": [
    "adata_wta = sc.read_h5ad(open(\"/lustre/scratch117/cellgen/team283/Kidney-Nanostring/Kidney_AnnData_4.h5ad\", \"rb\"))"
   ]
  },
  {
   "cell_type": "code",
   "execution_count": 3,
   "id": "adjustable-variable",
   "metadata": {},
   "outputs": [],
   "source": [
    "pVals = pd.read_table(open(\"/lustre/scratch117/cellgen/team283/Kidney-Nanostring/scrna/cellphonedb/out/pvalues.txt\"))"
   ]
  },
  {
   "cell_type": "code",
   "execution_count": 4,
   "id": "vocational-ambassador",
   "metadata": {},
   "outputs": [],
   "source": [
    "columns_split = [c.split('|') for c in pVals.columns]\n",
    "celltypes = [c for c in columns_split if len(c) == 2]\n",
    "celltypes_unique = np.unique(np.array(celltypes))\n",
    "color = []\n",
    "n = len(celltypes_unique)\n",
    "for i in range(n):\n",
    "    color.append('#%06X' % randint(0, 0xFFFFFF))"
   ]
  },
  {
   "cell_type": "code",
   "execution_count": 6,
   "id": "julian-aerospace",
   "metadata": {},
   "outputs": [],
   "source": [
    "# Get list of differentially expressed genes:\n",
    "sc_adata = sc.read_h5ad('/lustre/scratch117/cellgen/team283/Kidney-Nanostring/scrna/mature_adata.h5ad')\n",
    "de_genes = adata_wta.var.index[[np.abs(adata_wta.varm['DE-CountCorrect-glomerulus_Geometric Segment']['log2fc'].iloc[i]) > 1\n",
    "and adata_wta.varm['DE-CountCorrect-glomerulus_Geometric Segment']['FDR'].iloc[i] < 0.05\n",
    "for i in range(len(adata_wta.varm['DE-CountCorrect-glomerulus_Geometric Segment']['FDR']))]]\n",
    "de_ids = sc_adata.var.loc[de_genes[[d in sc_adata.var.index for d in de_genes]],'ID']\n",
    "\n",
    "# Make a table that contains all genes that make up a complex:\n",
    "gene_table = pd.read_csv('/lustre/scratch117/cellgen/team283/Kidney-Nanostring/gene_input.csv')\n",
    "complex_table = pd.read_csv('/lustre/scratch117/cellgen/team283/Kidney-Nanostring/complex_input.csv')\n",
    "complex_table = complex_table.iloc[:,0:5]\n",
    "complex_table['uniprot_1'] = [np.array(gene_table['ensembl'].loc[gene_table['uniprot'] == u])[0] if u in np.array(gene_table['uniprot']) else None for u in complex_table['uniprot_1']]\n",
    "complex_table['uniprot_2'] = [np.array(gene_table['ensembl'].loc[gene_table['uniprot'] == u])[0] if u in np.array(gene_table['uniprot']) else None for u in complex_table['uniprot_2']]\n",
    "complex_table['uniprot_3'] = [np.array(gene_table['ensembl'].loc[gene_table['uniprot'] == u])[0] if u in np.array(gene_table['uniprot']) else None for u in complex_table['uniprot_3']]\n",
    "complex_table['uniprot_4'] = [np.array(gene_table['ensembl'].loc[gene_table['uniprot'] == u])[0] if u in np.array(gene_table['uniprot']) else None for u in complex_table['uniprot_4']]\n",
    "complex_table.columns = ('complex_name', 'gene_name_1', 'gene_name_2', 'gene_name_3', 'gene_name_4')\n",
    "\n",
    "# And put this information into the interaction table:\n",
    "pVals['gene_a'] = [[a] if isinstance(a, str) \n",
    " else list(filter(None,complex_table.loc[:, ('gene_name_1', 'gene_name_2', 'gene_name_3', 'gene_name_4')].iloc[np.where(complex_table['complex_name'] == pVals['partner_a'].iloc[i].split('complex:')[1])[0][0]])) \n",
    " for i,a in enumerate(np.array(pVals['gene_a']))]\n",
    "pVals['gene_b'] = [[a] if isinstance(a, str) \n",
    " else list(filter(None,complex_table.loc[:, ('gene_name_1', 'gene_name_2', 'gene_name_3', 'gene_name_4')].iloc[np.where(complex_table['complex_name'] == pVals['partner_b'].iloc[i].split('complex:')[1])[0][0]])) \n",
    " for i,a in enumerate(np.array(pVals['gene_b']))]\n",
    "\n",
    "# Now filter interactions down to those that have at least\n",
    "# one differentially expressed gene (including any gene in a complex):\n",
    "de_subset = [np.array([g in np.array(de_ids) for g in pVals['gene_a'].iloc[i]]).any()\n",
    " or np.array([g in np.array(de_ids) for g in pVals['gene_b'].iloc[i]]).any()\n",
    " for i in range(len(pVals['gene_a']))]\n",
    "pVals_subset = pVals.loc[de_subset,:]\n",
    "\n",
    "# Also subset to most abundant cell type in ROI type of interest:\n",
    "cutoff = 100\n",
    "split_columns = [o.split('q05_cell_density_per_mm2_') for o in adata_wta.obs.columns]\n",
    "celltypes_columns = [s[1]  for s in split_columns if len(s) == 2]\n",
    "celldensity = adata_wta.obs.loc[:,[len(s) == 2 for s in split_columns]]\n",
    "celltypes_columns == celltypes_unique\n",
    "roi_subset = np.array([adata_wta.obs['region'].iloc[i] + adata_wta.obs['SegmentLabel'].iloc[i]\n",
    "for i in range(len(adata_wta.obs['region']))]) == 'glomerulusGeometric Segment'\n",
    "mean_density = np.mean(celldensity.loc[roi_subset,:], axis = 0)\n",
    "mean_density.index = celltypes_columns\n",
    "celltypes_subset = mean_density.index[mean_density > cutoff]\n",
    "\n",
    "# And make sankey the plots just for this subset of genes and cell types:\n",
    "columns_split = [c.split('|') for c in pVals_subset.columns]\n",
    "celltypes = [c for c in columns_split if len(c) == 2]\n",
    "celltypes_unique = np.unique(np.array(celltypes))\n",
    "label = np.concatenate([[c + ' (ligand)' for c in celltypes_unique], [c + ' (receptor)' for c in celltypes_unique]])\n",
    "count = 0\n",
    "source = []\n",
    "target = []\n",
    "value = []\n",
    "for i in range(11, np.shape(pVals_subset)[1]):\n",
    "        source.append(np.where(celltypes_unique == celltypes[count][0])[0][0])\n",
    "        target.append(np.where(celltypes_unique == celltypes[count][1])[0][0] + 33)\n",
    "        value.append(np.sum([pVals_subset.iloc[j,i] < 0.05 and pVals_subset.loc[:,'receptor_b'].iloc[j]\n",
    "        for j in range(len(pVals_subset.loc[:,'receptor_b']))]))\n",
    "        \n",
    "        source.append(np.where(celltypes_unique == celltypes[count][1])[0][0])\n",
    "        target.append(np.where(celltypes_unique == celltypes[count][0])[0][0] + 33)\n",
    "        value.append(np.sum([pVals_subset.iloc[j,i] < 0.05 and pVals_subset.loc[:,'receptor_a'].iloc[j]\n",
    "        for j in range(len(pVals_subset.loc[:,'receptor_a']))]))\n",
    "        \n",
    "        count += 1          \n",
    "celltypes_subset_index = [np.where(celltypes_unique == c)[0][0] for c in celltypes_subset]\n",
    "subset = [source[i] in np.array(celltypes_subset_index)\n",
    "          and target[i]-33 in np.array(celltypes_subset_index)\n",
    "          for i in range(len(source))]\n",
    "source_subset = np.array(source)[subset]\n",
    "target_subset = np.array(target)[subset]\n",
    "value_subset = np.array(value)[subset]\n",
    "fig = go.Figure(data=[go.Sankey(\n",
    "    node = dict(\n",
    "      pad = 15,\n",
    "      thickness = 20,\n",
    "      line = dict(color = \"black\", width = 0.5),\n",
    "      label = label,\n",
    "      color = np.concatenate([color, color])\n",
    "    ),\n",
    "    link = dict(\n",
    "      source = source_subset, # indices correspond to labels, eg A1, A2, A1, B1, ...\n",
    "      target = target_subset,\n",
    "      value = value_subset\n",
    "  ))])\n",
    "\n",
    "fig.update_layout(title_text=\"CellphoneDB Diagram Glomeruli\", font_size=10)\n",
    "fig.show()\n",
    "fig.write_html(\"../sankey.html\")\n",
    "\n",
    "# Also save prioritized interactions in table format:\n",
    "columns_split = [c.split('|') for c in pVals_subset.columns]\n",
    "celltypes = [c for c in columns_split if len(c) == 2]\n",
    "pVals_prioritized = pVals.loc[:,np.concatenate([np.repeat(True, 11), [c[0] in celltypes_subset and c[1] in celltypes_subset for c in celltypes]])]"
   ]
  },
  {
   "cell_type": "markdown",
   "id": "dangerous-shanghai",
   "metadata": {},
   "source": [
    "Make a table with detailed information about all prioritized interactions:"
   ]
  },
  {
   "cell_type": "code",
   "execution_count": 60,
   "id": "anticipated-federation",
   "metadata": {},
   "outputs": [],
   "source": [
    "prioritizedInteractions = pd.DataFrame(columns = ['Celltype (ligand)', 'Celltype (receptor)', 'Ligand Protein', 'Receptor Protein', 'Ligand Genes', 'Receptor Genes',\n",
    "                                                  'Ligand Genes log2FC', 'Receptor Genes log2FC', 'Ligand Genes P-Value',\n",
    "                                                  'Receptor Genes P-Value', 'Ligand+Receptor Genes Mean log2FC'])"
   ]
  },
  {
   "cell_type": "markdown",
   "id": "rocky-transfer",
   "metadata": {},
   "source": [
    "Also make a simple version by just subsetting pVals:"
   ]
  },
  {
   "cell_type": "code",
   "execution_count": null,
   "id": "prospective-measure",
   "metadata": {},
   "outputs": [],
   "source": []
  },
  {
   "cell_type": "code",
   "execution_count": 76,
   "id": "rotary-maker",
   "metadata": {},
   "outputs": [],
   "source": []
  },
  {
   "cell_type": "code",
   "execution_count": null,
   "id": "conservative-divorce",
   "metadata": {},
   "outputs": [],
   "source": []
  }
 ],
 "metadata": {
  "kernelspec": {
   "display_name": "Python (cellpymc)",
   "language": "python",
   "name": "cellpymc"
  },
  "language_info": {
   "codemirror_mode": {
    "name": "ipython",
    "version": 3
   },
   "file_extension": ".py",
   "mimetype": "text/x-python",
   "name": "python",
   "nbconvert_exporter": "python",
   "pygments_lexer": "ipython3",
   "version": "3.7.6"
  }
 },
 "nbformat": 4,
 "nbformat_minor": 5
}
