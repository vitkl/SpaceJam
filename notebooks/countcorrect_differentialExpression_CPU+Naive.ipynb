{
 "cells": [
  {
   "cell_type": "code",
   "execution_count": 1,
   "id": "9ea609db",
   "metadata": {},
   "outputs": [],
   "source": [
    "import sys,os\n",
    "import pickle\n",
    "import anndata\n",
    "import pandas as pd\n",
    "import numpy as np\n",
    "import scanpy as sc\n",
    "import diffxpy.api as de\n",
    "import statsmodels.stats.multitest as multi"
   ]
  },
  {
   "cell_type": "code",
   "execution_count": 2,
   "id": "ed65dcbe",
   "metadata": {},
   "outputs": [],
   "source": [
    "adata_wta = sc.read_h5ad(open(\"/lustre/scratch117/cellgen/team283/Kidney-Nanostring/Kidney_AnnData_3.h5ad\", \"rb\"))"
   ]
  },
  {
   "cell_type": "code",
   "execution_count": 3,
   "id": "verbal-smoke",
   "metadata": {},
   "outputs": [
    {
     "data": {
      "text/plain": [
       "glomerulusGeometric SegmentDKD       83\n",
       "glomerulusGeometric Segmentnormal    66\n",
       "tubulenegDKD                         24\n",
       "tubulePanCKDKD                       24\n",
       "tubulenegnormal                      17\n",
       "tubulePanCKnormal                    17\n",
       "dtype: int64"
      ]
     },
     "execution_count": 3,
     "metadata": {},
     "output_type": "execute_result"
    }
   ],
   "source": [
    "pd.DataFrame([adata_wta.obs['region'].iloc[i] + adata_wta.obs['SegmentLabel'].iloc[i] + adata_wta.obs['disease_status'].iloc[i]\n",
    "for i in range(len(adata_wta.obs['region']))]).value_counts()"
   ]
  },
  {
   "cell_type": "code",
   "execution_count": 4,
   "id": "announced-creativity",
   "metadata": {},
   "outputs": [
    {
     "name": "stdout",
     "output_type": "stream",
     "text": [
      "66\n",
      "83\n"
     ]
    },
    {
     "name": "stderr",
     "output_type": "stream",
     "text": [
      "/nfs/users/nfs_a/aa16/.local/lib/python3.7/site-packages/anndata/_core/anndata.py:119: ImplicitModificationWarning: Transforming to str index.\n",
      "  warnings.warn(\"Transforming to str index.\", ImplicitModificationWarning)\n"
     ]
    },
    {
     "name": "stdout",
     "output_type": "stream",
     "text": [
      "17\n",
      "24\n",
      "17\n",
      "24\n"
     ]
    }
   ],
   "source": [
    "regionArray = ['glomerulus', 'tubule', 'tubule']\n",
    "segmentArray = ['Geometric Segment', 'neg', 'PanCK']\n",
    "\n",
    "for i in range(len(segmentArray)):\n",
    "\n",
    "    order_Control = np.where([adata_wta.obs['region'].iloc[j] == regionArray[i] \n",
    "    and adata_wta.obs['SegmentLabel'].iloc[j] == segmentArray[i]\n",
    "    and adata_wta.obs['disease_status'].iloc[j] == 'normal'\n",
    "    for j in range(len(adata_wta.obs['region']))])[0]\n",
    "\n",
    "    print(len(order_Control))\n",
    "    \n",
    "    order_DKD = np.where([adata_wta.obs['region'].iloc[j] == regionArray[i] \n",
    "    and adata_wta.obs['SegmentLabel'].iloc[j] == segmentArray[i]\n",
    "    and adata_wta.obs['disease_status'].iloc[j] == 'DKD'\n",
    "    for j in range(len(adata_wta.obs['region']))])[0]\n",
    "    \n",
    "    print(len(order_DKD))\n",
    "    \n",
    "    order = np.concatenate([order_Control, order_DKD])\n",
    "\n",
    "    # Get cpm for both corrected (isc_cpm) and uncorrected data (cpm):\n",
    "    total_counts = np.sum(adata_wta.X, axis = 1)\n",
    "    cpm = adata_wta.layers['X_naive']/total_counts.reshape(np.shape(adata_wta.X)[0],1)*10**6\n",
    "    isc_cpm = adata_wta.layers['X_corrected_cpu']/total_counts.reshape(np.shape(adata_wta.X)[0],1)*10**6\n",
    "\n",
    "    # Put data into two AnnData objects:\n",
    "    adata_cpm = sc.AnnData(X=cpm[order],\n",
    "                                   obs=pd.DataFrame(data = np.concatenate([np.repeat('Control', len(order_Control)),\n",
    "                                                                          np.repeat('DKD', len(order_DKD))]),\n",
    "                                                    columns = ['Background']))\n",
    "\n",
    "    adata_isc_cpm = sc.AnnData(X=isc_cpm[order],\n",
    "                                   obs=pd.DataFrame(data = np.concatenate([np.repeat('Control', len(order_Control)),\n",
    "                                                                          np.repeat('DKD', len(order_DKD))]),\n",
    "                                                    columns = ['Background']))\n",
    "\n",
    "#     # Perform differential expression with diffxpy for both cases:\n",
    "\n",
    "    test_rank_cpm = de.test.rank_test(\n",
    "        data=adata_cpm,\n",
    "        grouping=\"Background\",\n",
    "        gene_names = adata_wta.var_names,\n",
    "        ).summary()\n",
    "\n",
    "    test_rank_isc_cpm = de.test.rank_test(\n",
    "        data=adata_isc_cpm,\n",
    "        grouping=\"Background\",\n",
    "        gene_names = adata_wta.var_names,\n",
    "        ).summary()\n",
    "\n",
    "    # Add FDR:\n",
    "\n",
    "    test_rank_cpm['FDR'] = multi.multipletests(test_rank_cpm['pval'], method = 'fdr_bh')[1]\n",
    "    test_rank_isc_cpm['FDR'] = multi.multipletests(test_rank_isc_cpm['pval'], method = 'fdr_bh')[1]\n",
    "    \n",
    "    test_rank_cpm.index = test_rank_cpm['gene']\n",
    "    test_rank_isc_cpm.index = test_rank_isc_cpm['gene']\n",
    "    test_rank_cpm = test_rank_cpm.drop('gene', axis = 1)\n",
    "    test_rank_isc_cpm = test_rank_isc_cpm.drop('gene', axis = 1)\n",
    "    \n",
    "    adata_wta.varm['DE-Naive-' + regionArray[i] + '_' + segmentArray[i]] = test_rank_cpm\n",
    "    adata_wta.varm['DE-CountCorrectCpu-' + regionArray[i] + '_' + segmentArray[i]] = test_rank_isc_cpm"
   ]
  },
  {
   "cell_type": "markdown",
   "id": "delayed-shield",
   "metadata": {},
   "source": [
    "Also add cell abundance from cell2location to metadata:"
   ]
  },
  {
   "cell_type": "code",
   "execution_count": 7,
   "id": "moral-demand",
   "metadata": {},
   "outputs": [],
   "source": [
    "cell_density = pd.read_csv('/lustre/scratch117/cellgen/team283/Kidney-Nanostring/resultsLocationModelWTAMultiExperimentHierarchicalGeneLevel_7experiments_33clusters_231locations_9551genes/q05_cell_density_per_mm2.csv',\n",
    "            index_col=0)"
   ]
  },
  {
   "cell_type": "code",
   "execution_count": 10,
   "id": "funny-voluntary",
   "metadata": {},
   "outputs": [],
   "source": [
    "adata_wta.obs = adata_wta.obs.drop(['Unnamed: 23', 'Unnamed: 24', 'Unnamed: 25', 'Unnamed: 26', 'Unnamed: 27'], axis = 1)"
   ]
  },
  {
   "cell_type": "code",
   "execution_count": 16,
   "id": "favorite-rebate",
   "metadata": {},
   "outputs": [],
   "source": [
    "cell_density.index = adata_wta.obs.index"
   ]
  },
  {
   "cell_type": "code",
   "execution_count": 18,
   "id": "satisfactory-shield",
   "metadata": {},
   "outputs": [],
   "source": [
    "adata_wta.obs = pd.concat([adata_wta.obs, cell_density], axis = 1)"
   ]
  },
  {
   "cell_type": "code",
   "execution_count": 19,
   "id": "russian-wellington",
   "metadata": {},
   "outputs": [],
   "source": [
    "adata_wta.write_h5ad(\"/lustre/scratch117/cellgen/team283/Kidney-Nanostring/Kidney_AnnData_4.h5ad\")"
   ]
  },
  {
   "cell_type": "code",
   "execution_count": null,
   "id": "knowing-cabin",
   "metadata": {},
   "outputs": [],
   "source": []
  }
 ],
 "metadata": {
  "environment": {
   "name": "common-cu110.m65",
   "type": "gcloud",
   "uri": "gcr.io/deeplearning-platform-release/base-cu110:m65"
  },
  "kernelspec": {
   "display_name": "Python (cellpymc)",
   "language": "python",
   "name": "cellpymc"
  },
  "language_info": {
   "codemirror_mode": {
    "name": "ipython",
    "version": 3
   },
   "file_extension": ".py",
   "mimetype": "text/x-python",
   "name": "python",
   "nbconvert_exporter": "python",
   "pygments_lexer": "ipython3",
   "version": "3.7.6"
  }
 },
 "nbformat": 4,
 "nbformat_minor": 5
}
