{
 "cells": [
  {
   "cell_type": "code",
   "execution_count": 1,
   "id": "funny-housing",
   "metadata": {},
   "outputs": [
    {
     "name": "stderr",
     "output_type": "stream",
     "text": [
      "WARNING (theano.tensor.blas): Using NumPy C-API based implementation for BLAS functions.\n",
      "Can not use cuDNN on context None: Disabled by dnn.enabled flag\n",
      "Mapped name None to device cuda: Tesla V100-SXM2-32GB (0000:89:00.0)\n"
     ]
    }
   ],
   "source": [
    "import sys,os\n",
    "import pickle\n",
    "import anndata\n",
    "import pandas as pd\n",
    "import numpy as np\n",
    "import matplotlib.pyplot as plt\n",
    "import scanpy as sc\n",
    "from IPython.display import Image\n",
    "data_type = 'float32'\n",
    "os.environ[\"THEANO_FLAGS\"] = 'device=cuda,floatX=' + data_type + ',force_device=True' + ',dnn.enabled=False'\n",
    "import cell2location\n",
    "os.chdir(\"/nfs/team283/aa16/SpaceJam/\")\n",
    "import spacejam"
   ]
  },
  {
   "cell_type": "markdown",
   "id": "collected-abortion",
   "metadata": {},
   "source": [
    "Import our three models:"
   ]
  },
  {
   "cell_type": "code",
   "execution_count": 2,
   "id": "answering-jewelry",
   "metadata": {},
   "outputs": [],
   "source": [
    "from spacejam.models import LocationModelWTAMultiExperiment\n",
    "from spacejam.models import LocationModelWTAMultiExperimentGeneLevel\n",
    "from spacejam.models import LocationModelWTAMultiExperimentHierarchicalGeneLevel"
   ]
  },
  {
   "cell_type": "code",
   "execution_count": 3,
   "id": "compressed-headset",
   "metadata": {},
   "outputs": [],
   "source": [
    "models = [spacejam.models.LocationModelWTAMultiExperiment.LocationModelWTAMultiExperiment,\n",
    "          spacejam.models.LocationModelWTAMultiExperimentGeneLevel.LocationModelWTAMultiExperimentGeneLevel,\n",
    "          spacejam.models.LocationModelWTAMultiExperimentHierarchicalGeneLevel.LocationModelWTAMultiExperimentHierarchicalGeneLevel]"
   ]
  },
  {
   "cell_type": "markdown",
   "id": "adequate-activity",
   "metadata": {},
   "source": [
    "Load and format data:"
   ]
  },
  {
   "cell_type": "code",
   "execution_count": 4,
   "id": "nervous-period",
   "metadata": {},
   "outputs": [
    {
     "name": "stderr",
     "output_type": "stream",
     "text": [
      "/nfs/users/nfs_a/aa16/.local/lib/python3.7/site-packages/anndata/_core/anndata.py:119: ImplicitModificationWarning: Transforming to str index.\n",
      "  warnings.warn(\"Transforming to str index.\", ImplicitModificationWarning)\n"
     ]
    }
   ],
   "source": [
    "adata_wta = sc.read_h5ad(open(\"/lustre/scratch117/cellgen/team283/Kidney-Nanostring/Kidney_AnnData.h5ad\", \"rb\"))"
   ]
  },
  {
   "cell_type": "code",
   "execution_count": 5,
   "id": "seeing-insured",
   "metadata": {},
   "outputs": [],
   "source": [
    "reg_path = \"/lustre/scratch117/cellgen/team283/Kidney-Nanostring/scrna/regression_model/RegressionGeneBackgroundCoverageTorch_46covariates_40268cells_10882genes/\"\n",
    "adata_snrna_raw = sc.read(f'{reg_path}sc.h5ad')"
   ]
  },
  {
   "cell_type": "code",
   "execution_count": 6,
   "id": "injured-companion",
   "metadata": {},
   "outputs": [],
   "source": [
    "# Column name containing cell type annotations\n",
    "covariate_col_names = 'celltype'\n",
    "\n",
    "# Extract a pd.DataFrame with signatures from anndata object\n",
    "inf_aver = adata_snrna_raw.raw.var.copy()\n",
    "inf_aver = inf_aver.loc[:, [f'means_cov_effect_{covariate_col_names}_{i}' for i in adata_snrna_raw.obs[covariate_col_names].unique()]]\n",
    "from re import sub\n",
    "inf_aver.columns = [sub(f'means_cov_effect_{covariate_col_names}_{i}', '', i) for i in adata_snrna_raw.obs[covariate_col_names].unique()]\n",
    "inf_aver = inf_aver.iloc[:, inf_aver.columns.argsort()]\n",
    "\n",
    "# normalise by average experiment scaling factor (corrects for sequencing depth)\n",
    "inf_aver = inf_aver * adata_snrna_raw.uns['regression_mod']['post_sample_means']['sample_scaling'].mean()"
   ]
  },
  {
   "cell_type": "code",
   "execution_count": 7,
   "id": "healthy-salem",
   "metadata": {},
   "outputs": [],
   "source": [
    "counts_negativeProbes = adata_wta.obsm['negProbes']\n",
    "counts_nuclei = np.asarray(adata_wta.obs['AOINucleiCount']).reshape(len(adata_wta.obs['AOINucleiCount']),1)"
   ]
  },
  {
   "cell_type": "code",
   "execution_count": 8,
   "id": "completed-standing",
   "metadata": {},
   "outputs": [],
   "source": [
    "adata_wta.raw = adata_wta"
   ]
  },
  {
   "cell_type": "code",
   "execution_count": 9,
   "id": "integral-approach",
   "metadata": {},
   "outputs": [],
   "source": [
    "inf_aver.index = np.array(adata_snrna_raw.var.loc[inf_aver.index,'SYMBOL'])"
   ]
  },
  {
   "cell_type": "markdown",
   "id": "overhead-horizontal",
   "metadata": {},
   "source": [
    "Run cell2location:"
   ]
  },
  {
   "cell_type": "code",
   "execution_count": null,
   "id": "graduate-louisiana",
   "metadata": {},
   "outputs": [
    {
     "name": "stdout",
     "output_type": "stream",
     "text": [
      "### Summarising single cell clusters ###\n",
      "### Creating model ### - time 0.0 min\n",
      "(231, 7)\n",
      "### Analysis name: LocationModelWTAMultiExperiment_7experiments_33clusters_231locations_9551genes\n",
      "### Training model ###\n"
     ]
    },
    {
     "name": "stderr",
     "output_type": "stream",
     "text": [
      "Average Loss = inf: 100%|██████████| 20000/20000 [02:12<00:00, 151.20it/s]\n",
      "Finished [100%]: Average Loss = nan\n"
     ]
    },
    {
     "name": "stdout",
     "output_type": "stream",
     "text": [
      "[<matplotlib.lines.Line2D object at 0x14d01f0d6550>]\n"
     ]
    },
    {
     "name": "stderr",
     "output_type": "stream",
     "text": [
      "Average Loss = inf:  97%|█████████▋| 19395/20000 [02:07<00:03, 152.28it/s]"
     ]
    }
   ],
   "source": [
    "for i in range(len(models)):\n",
    "    cell2location.run_c2l.run_cell2location(inf_aver, adata_wta, \n",
    "            model_name=models[i],\n",
    "            export_args={'path': \"/lustre/scratch117/cellgen/team283/Kidney-Nanostring/results\"},\n",
    "            train_args={'use_raw': True, 'n_iter': 20000, 'sample_name_col': 'SlideName'},\n",
    "            model_kwargs={\n",
    "            \"Y_data\" : counts_negativeProbes,\n",
    "            \"cell_number_prior\" : {'cells_per_spot': counts_nuclei, 'factors_per_spot': 6, 'combs_per_spot': 3},\n",
    "            \"cell_number_var_prior\" : {'cells_mean_var_ratio': 1, 'factors_mean_var_ratio': 1, 'combs_mean_var_ratio': 1}})"
   ]
  },
  {
   "cell_type": "code",
   "execution_count": null,
   "id": "light-spirituality",
   "metadata": {},
   "outputs": [],
   "source": []
  }
 ],
 "metadata": {
  "kernelspec": {
   "display_name": "Python 3",
   "language": "python",
   "name": "python3"
  },
  "language_info": {
   "codemirror_mode": {
    "name": "ipython",
    "version": 3
   },
   "file_extension": ".py",
   "mimetype": "text/x-python",
   "name": "python",
   "nbconvert_exporter": "python",
   "pygments_lexer": "ipython3",
   "version": "3.7.10"
  }
 },
 "nbformat": 4,
 "nbformat_minor": 5
}
