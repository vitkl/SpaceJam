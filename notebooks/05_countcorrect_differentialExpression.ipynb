{
 "cells": [
  {
   "cell_type": "code",
   "execution_count": 1,
   "id": "9ea609db",
   "metadata": {},
   "outputs": [],
   "source": [
    "import sys,os\n",
    "import pickle\n",
    "import anndata\n",
    "import pandas as pd\n",
    "import numpy as np\n",
    "import scanpy as sc\n",
    "import diffxpy.api as de\n",
    "import statsmodels.stats.multitest as multi"
   ]
  },
  {
   "cell_type": "code",
   "execution_count": 2,
   "id": "ed65dcbe",
   "metadata": {},
   "outputs": [],
   "source": [
    "adata_wta = sc.read_h5ad(open(\"/lustre/scratch117/cellgen/team283/Kidney-Nanostring/Kidney_AnnData_1.h5ad\", \"rb\"))"
   ]
  },
  {
   "cell_type": "code",
   "execution_count": 3,
   "id": "verbal-smoke",
   "metadata": {},
   "outputs": [
    {
     "data": {
      "text/plain": [
       "glomerulusGeometric SegmentDKD       83\n",
       "glomerulusGeometric Segmentnormal    66\n",
       "tubulenegDKD                         24\n",
       "tubulePanCKDKD                       24\n",
       "tubulenegnormal                      17\n",
       "tubulePanCKnormal                    17\n",
       "dtype: int64"
      ]
     },
     "execution_count": 3,
     "metadata": {},
     "output_type": "execute_result"
    }
   ],
   "source": [
    "pd.DataFrame([adata_wta.obs['region'].iloc[i] + adata_wta.obs['SegmentLabel'].iloc[i] + adata_wta.obs['disease_status'].iloc[i]\n",
    "for i in range(len(adata_wta.obs['region']))]).value_counts()"
   ]
  },
  {
   "cell_type": "code",
   "execution_count": 4,
   "id": "announced-creativity",
   "metadata": {},
   "outputs": [
    {
     "name": "stdout",
     "output_type": "stream",
     "text": [
      "66\n",
      "83\n"
     ]
    },
    {
     "name": "stderr",
     "output_type": "stream",
     "text": [
      "/nfs/users/nfs_a/aa16/.local/lib/python3.7/site-packages/anndata/_core/anndata.py:119: ImplicitModificationWarning: Transforming to str index.\n",
      "  warnings.warn(\"Transforming to str index.\", ImplicitModificationWarning)\n"
     ]
    },
    {
     "name": "stdout",
     "output_type": "stream",
     "text": [
      "17\n",
      "24\n",
      "17\n",
      "24\n"
     ]
    }
   ],
   "source": [
    "regionArray = ['glomerulus', 'tubule', 'tubule']\n",
    "segmentArray = ['Geometric Segment', 'neg', 'PanCK']\n",
    "\n",
    "for i in range(len(segmentArray)):\n",
    "\n",
    "    order_Control = np.where([adata_wta.obs['region'].iloc[j] == regionArray[i] \n",
    "    and adata_wta.obs['SegmentLabel'].iloc[j] == segmentArray[i]\n",
    "    and adata_wta.obs['disease_status'].iloc[j] == 'normal'\n",
    "    for j in range(len(adata_wta.obs['region']))])[0]\n",
    "\n",
    "    print(len(order_Control))\n",
    "    \n",
    "    order_DKD = np.where([adata_wta.obs['region'].iloc[j] == regionArray[i] \n",
    "    and adata_wta.obs['SegmentLabel'].iloc[j] == segmentArray[i]\n",
    "    and adata_wta.obs['disease_status'].iloc[j] == 'DKD'\n",
    "    for j in range(len(adata_wta.obs['region']))])[0]\n",
    "    \n",
    "    print(len(order_DKD))\n",
    "    \n",
    "    order = np.concatenate([order_Control, order_DKD])\n",
    "\n",
    "    # Get cpm for both corrected (isc_cpm) and uncorrected data (cpm):\n",
    "    total_counts = np.sum(adata_wta.X, axis = 1)\n",
    "    cpm = adata_wta.X/total_counts.reshape(np.shape(adata_wta.X)[0],1)*10**6\n",
    "    isc_cpm = adata_wta.layers['X_corrected']/total_counts.reshape(np.shape(adata_wta.X)[0],1)*10**6\n",
    "\n",
    "    # Put data into two AnnData objects:\n",
    "    adata_cpm = sc.AnnData(X=cpm[order],\n",
    "                                   obs=pd.DataFrame(data = np.concatenate([np.repeat('Control', len(order_Control)),\n",
    "                                                                          np.repeat('DKD', len(order_DKD))]),\n",
    "                                                    columns = ['Background']))\n",
    "\n",
    "    adata_isc_cpm = sc.AnnData(X=isc_cpm[order],\n",
    "                                   obs=pd.DataFrame(data = np.concatenate([np.repeat('Control', len(order_Control)),\n",
    "                                                                          np.repeat('DKD', len(order_DKD))]),\n",
    "                                                    columns = ['Background']))\n",
    "\n",
    "#     # Perform differential expression with diffxpy for both cases:\n",
    "\n",
    "    test_rank_cpm = de.test.rank_test(\n",
    "        data=adata_cpm,\n",
    "        grouping=\"Background\",\n",
    "        gene_names = adata_wta.var_names,\n",
    "        ).summary()\n",
    "\n",
    "    test_rank_isc_cpm = de.test.rank_test(\n",
    "        data=adata_isc_cpm,\n",
    "        grouping=\"Background\",\n",
    "        gene_names = adata_wta.var_names,\n",
    "        ).summary()\n",
    "\n",
    "    # Add FDR:\n",
    "\n",
    "    test_rank_cpm['FDR'] = multi.multipletests(test_rank_cpm['pval'], method = 'fdr_bh')[1]\n",
    "    test_rank_isc_cpm['FDR'] = multi.multipletests(test_rank_isc_cpm['pval'], method = 'fdr_bh')[1]\n",
    "    \n",
    "    test_rank_cpm.index = test_rank_cpm['gene']\n",
    "    test_rank_isc_cpm.index = test_rank_isc_cpm['gene']\n",
    "    test_rank_cpm = test_rank_cpm.drop('gene', axis = 1)\n",
    "    test_rank_isc_cpm = test_rank_isc_cpm.drop('gene', axis = 1)\n",
    "    \n",
    "    adata_wta.varm['DE-Standard-' + regionArray[i] + '_' + segmentArray[i]] = test_rank_cpm\n",
    "    adata_wta.varm['DE-CountCorrect-' + regionArray[i] + '_' + segmentArray[i]] = test_rank_isc_cpm"
   ]
  },
  {
   "cell_type": "code",
   "execution_count": 5,
   "id": "russian-wellington",
   "metadata": {},
   "outputs": [],
   "source": [
    "adata_wta.write_h5ad(\"/lustre/scratch117/cellgen/team283/Kidney-Nanostring/Kidney_AnnData_2.h5ad\")"
   ]
  },
  {
   "cell_type": "code",
   "execution_count": 6,
   "id": "hawaiian-container",
   "metadata": {},
   "outputs": [
    {
     "data": {
      "text/plain": [
       "AxisArrays with keys: DE-Standard-glomerulus_Geometric Segment, DE-CountCorrect-glomerulus_Geometric Segment, DE-Standard-tubule_neg, DE-CountCorrect-tubule_neg, DE-Standard-tubule_PanCK, DE-CountCorrect-tubule_PanCK"
      ]
     },
     "execution_count": 6,
     "metadata": {},
     "output_type": "execute_result"
    }
   ],
   "source": [
    "adata_wta.varm"
   ]
  },
  {
   "cell_type": "code",
   "execution_count": null,
   "id": "knowing-cabin",
   "metadata": {},
   "outputs": [],
   "source": []
  }
 ],
 "metadata": {
  "environment": {
   "name": "common-cu110.m65",
   "type": "gcloud",
   "uri": "gcr.io/deeplearning-platform-release/base-cu110:m65"
  },
  "kernelspec": {
   "display_name": "Python (cellpymc)",
   "language": "python",
   "name": "cellpymc"
  },
  "language_info": {
   "codemirror_mode": {
    "name": "ipython",
    "version": 3
   },
   "file_extension": ".py",
   "mimetype": "text/x-python",
   "name": "python",
   "nbconvert_exporter": "python",
   "pygments_lexer": "ipython3",
   "version": "3.7.6"
  }
 },
 "nbformat": 4,
 "nbformat_minor": 5
}
