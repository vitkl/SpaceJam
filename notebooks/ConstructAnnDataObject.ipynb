{
 "cells": [
  {
   "cell_type": "code",
   "execution_count": 1,
   "metadata": {},
   "outputs": [],
   "source": [
    "import scanpy as sc\n",
    "import anndata\n",
    "import pandas as pd\n",
    "import numpy as np"
   ]
  },
  {
   "cell_type": "code",
   "execution_count": 2,
   "metadata": {},
   "outputs": [],
   "source": [
    "def wta_to_AnnData(data_path, target_counts_file, probe_counts_file, feature_annotations_file,\n",
    "                   sample_annotations_file, saving = 'AnnData', returning = False):\n",
    "\n",
    "    target_counts_path = data_path + target_counts_file\n",
    "    probe_counts_path = data_path + probe_counts_file\n",
    "    feature_annotations_path = data_path + feature_annotations_file\n",
    "    sample_annotations_path = data_path + sample_annotations_file\n",
    "    \n",
    "    target_counts = pd.read_table(target_counts_path, index_col=0)\n",
    "    probe_counts = pd.read_table(probe_counts_path, index_col=0)\n",
    "    feature_annotations = pd.read_table(feature_annotations_path, index_col=0)\n",
    "    sample_annotations = pd.read_table(sample_annotations_path)\n",
    "    \n",
    "    sample_annotations.index = sample_annotations['SegmentDisplayName']\n",
    "    sample_annotations = sample_annotations.loc[target_counts.columns,:]\n",
    "    \n",
    "    negative_probe_names = np.array(feature_annotations['ProbeID'].loc[feature_annotations['Negative']])\n",
    "    negative_probe_counts = probe_counts.loc[negative_probe_names,:]\n",
    "    negative_probe_counts = negative_probe_counts.loc[:,target_counts.columns]\n",
    "    \n",
    "    feature_annotations.index = feature_annotations['TargetName']\n",
    "    feature_annotations = feature_annotations[~feature_annotations['Negative']]\n",
    "    target_counts = target_counts.loc[feature_annotations.index,:]\n",
    "    \n",
    "    adata = sc.AnnData(X = np.array(target_counts).T)\n",
    "    adata.var_names = target_counts.index\n",
    "    adata.var = feature_annotations\n",
    "    adata.obs = sample_annotations\n",
    "    adata.obsm['negProbes'] = np.array(negative_probe_counts.T)\n",
    "    \n",
    "    adata.obs.index = range(len(adata.obs.index))\n",
    "    adata.var.index = range(len(adata.var.index))\n",
    "    \n",
    "    adata.var_names = np.array(adata.var['TargetName'])\n",
    "    \n",
    "    if saving:\n",
    "        adata.write(data_path + saving)\n",
    "    \n",
    "    if returning:\n",
    "        return adata"
   ]
  },
  {
   "cell_type": "code",
   "execution_count": 3,
   "metadata": {},
   "outputs": [
    {
     "name": "stderr",
     "output_type": "stream",
     "text": [
      "... storing 'SlideName' as categorical\n",
      "... storing 'ScanName' as categorical\n",
      "... storing 'SegmentLabel' as categorical\n",
      "... storing 'disease_status' as categorical\n",
      "... storing 'pathology' as categorical\n",
      "... storing 'region' as categorical\n"
     ]
    }
   ],
   "source": [
    "wta_to_AnnData(data_path = '/nfs/team283/aa16/data/Kidney-Nanostring/',\n",
    "               target_counts_file = 'Kidney_Raw_TargetCountMatrix.txt',\n",
    "                probe_counts_file = 'Kidney_Raw_BioProbeCountMatrix.txt',\n",
    "                feature_annotations_file = 'Kidney_Feature_Annotations.txt',\n",
    "                sample_annotations_file = 'Kidney_Sample_Annotations.txt',\n",
    "              saving = 'Kidney_AnnData.h5ad',\n",
    "              returning = False)"
   ]
  },
  {
   "cell_type": "code",
   "execution_count": null,
   "metadata": {},
   "outputs": [],
   "source": []
  }
 ],
 "metadata": {
  "kernelspec": {
   "display_name": "Python (cellpymc)",
   "language": "python",
   "name": "cellpymc"
  },
  "language_info": {
   "codemirror_mode": {
    "name": "ipython",
    "version": 3
   },
   "file_extension": ".py",
   "mimetype": "text/x-python",
   "name": "python",
   "nbconvert_exporter": "python",
   "pygments_lexer": "ipython3",
   "version": "3.7.6"
  }
 },
 "nbformat": 4,
 "nbformat_minor": 4
}
