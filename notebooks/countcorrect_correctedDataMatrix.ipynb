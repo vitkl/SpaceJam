{
 "cells": [
  {
   "cell_type": "code",
   "execution_count": 3,
   "id": "9ea609db",
   "metadata": {},
   "outputs": [],
   "source": [
    "import sys,os\n",
    "import pickle\n",
    "import anndata\n",
    "import pandas as pd\n",
    "import numpy as np\n",
    "import scanpy as sc\n",
    "import matplotlib.pyplot as plt\n",
    "import seaborn as sns\n",
    "data_type = 'float32'\n",
    "os.environ[\"THEANO_FLAGS\"] = 'device=cuda,floatX=' + data_type + ',force_device=True' + ',dnn.enabled=False'\n",
    "import countcorrect as cc"
   ]
  },
  {
   "cell_type": "code",
   "execution_count": 5,
   "id": "ed65dcbe",
   "metadata": {},
   "outputs": [
    {
     "name": "stderr",
     "output_type": "stream",
     "text": [
      "/opt/conda/envs/countcorrect/lib/python3.7/site-packages/anndata/_core/anndata.py:120: ImplicitModificationWarning: Transforming to str index.\n",
      "  warnings.warn(\"Transforming to str index.\", ImplicitModificationWarning)\n"
     ]
    }
   ],
   "source": [
    "adata_wta = sc.read_h5ad(open(\"/home/jupyter/Kidney_AnnData.h5ad\", \"rb\"))"
   ]
  },
  {
   "cell_type": "code",
   "execution_count": 6,
   "id": "0a5e28c8",
   "metadata": {},
   "outputs": [],
   "source": [
    "counts_geneProbes = np.asarray(adata_wta.X)\n",
    "counts_negativeProbes = np.asarray(adata_wta.obsm['negProbes'])\n",
    "counts_nuclei = np.asarray(adata_wta.obs['AOINucleiCount']).reshape(len(adata_wta.obs['AOINucleiCount']),1).squeeze()"
   ]
  },
  {
   "cell_type": "code",
   "execution_count": 7,
   "id": "5ca2c2d3",
   "metadata": {},
   "outputs": [
    {
     "name": "stdout",
     "output_type": "stream",
     "text": [
      "Initializing model...\n",
      "Fitting model ...\n"
     ]
    },
    {
     "data": {
      "text/html": [
       "\n",
       "    <div>\n",
       "        <style>\n",
       "            /* Turns off some styling */\n",
       "            progress {\n",
       "                /* gets rid of default border in Firefox and Opera. */\n",
       "                border: none;\n",
       "                /* Needs to be in here for Safari polyfill so background images work as expected. */\n",
       "                background-size: auto;\n",
       "            }\n",
       "            .progress-bar-interrupted, .progress-bar-interrupted::-webkit-progress-bar {\n",
       "                background: #F44336;\n",
       "            }\n",
       "        </style>\n",
       "      <progress value='20000' class='' max='20000' style='width:300px; height:20px; vertical-align: middle;'></progress>\n",
       "      100.00% [20000/20000 11:47<00:00 Average Loss = inf]\n",
       "    </div>\n",
       "    "
      ],
      "text/plain": [
       "<IPython.core.display.HTML object>"
      ]
     },
     "metadata": {},
     "output_type": "display_data"
    },
    {
     "name": "stderr",
     "output_type": "stream",
     "text": [
      "Finished [100%]: Average Loss = nan\n"
     ]
    },
    {
     "name": "stdout",
     "output_type": "stream",
     "text": [
      "[<matplotlib.lines.Line2D object at 0x7fa8937ab790>]\n",
      "[<matplotlib.lines.Line2D object at 0x7fa8937460d0>]\n"
     ]
    },
    {
     "data": {
      "image/png": "[encoded data removed]",
      "text/plain": [
       "<Figure size 432x288 with 1 Axes>"
      ]
     },
     "metadata": {
      "needs_background": "light"
     },
     "output_type": "display_data"
    },
    {
     "name": "stdout",
     "output_type": "stream",
     "text": [
      "[<matplotlib.lines.Line2D object at 0x7fa8935a9890>]\n"
     ]
    },
    {
     "data": {
      "image/png": "[encoded data removed]",
      "text/plain": [
       "<Figure size 432x288 with 1 Axes>"
      ]
     },
     "metadata": {
      "needs_background": "light"
     },
     "output_type": "display_data"
    },
    {
     "name": "stdout",
     "output_type": "stream",
     "text": [
      "Sampling from posterior distribution...\n",
      "Done.\n"
     ]
    }
   ],
   "source": [
    "X_corrected = cc.run_countcorrect(counts_geneProbes, counts_negativeProbes, counts_nuclei)"
   ]
  },
  {
   "cell_type": "code",
   "execution_count": 8,
   "id": "53067087",
   "metadata": {},
   "outputs": [],
   "source": [
    "adata_wta.layers['X_corrected'] = X_corrected"
   ]
  },
  {
   "cell_type": "code",
   "execution_count": 9,
   "id": "75ded80a",
   "metadata": {},
   "outputs": [],
   "source": [
    "adata_wta.write_h5ad('/home/jupyter/Kidney_AnnData_1.h5ad')"
   ]
  },
  {
   "cell_type": "code",
   "execution_count": null,
   "id": "132bc141",
   "metadata": {},
   "outputs": [],
   "source": []
  }
 ],
 "metadata": {
  "environment": {
   "name": "common-cu110.m65",
   "type": "gcloud",
   "uri": "gcr.io/deeplearning-platform-release/base-cu110:m65"
  },
  "kernelspec": {
   "display_name": "Python [conda env:countcorrect]",
   "language": "python",
   "name": "conda-env-countcorrect-py"
  },
  "language_info": {
   "codemirror_mode": {
    "name": "ipython",
    "version": 3
   },
   "file_extension": ".py",
   "mimetype": "text/x-python",
   "name": "python",
   "nbconvert_exporter": "python",
   "pygments_lexer": "ipython3",
   "version": "3.7.10"
  }
 },
 "nbformat": 4,
 "nbformat_minor": 5
}
