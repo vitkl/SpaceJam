{
 "cells": [
  {
   "cell_type": "code",
   "execution_count": 1,
   "id": "retained-basic",
   "metadata": {},
   "outputs": [
    {
     "name": "stderr",
     "output_type": "stream",
     "text": [
      "WARNING (theano.configdefaults): install mkl with `conda install mkl-service`: No module named 'mkl'\n",
      "WARNING (theano.tensor.blas): Using NumPy C-API based implementation for BLAS functions.\n",
      "ERROR (theano.gpuarray): Could not initialize pygpu, support disabled\n",
      "Traceback (most recent call last):\n",
      "  File \"/nfs/users/nfs_a/aa16/.local/lib/python3.7/site-packages/theano/gpuarray/__init__.py\", line 227, in <module>\n",
      "    use(config.device)\n",
      "  File \"/nfs/users/nfs_a/aa16/.local/lib/python3.7/site-packages/theano/gpuarray/__init__.py\", line 214, in use\n",
      "    init_dev(device, preallocate=preallocate)\n",
      "  File \"/nfs/users/nfs_a/aa16/.local/lib/python3.7/site-packages/theano/gpuarray/__init__.py\", line 99, in init_dev\n",
      "    **args)\n",
      "  File \"pygpu/gpuarray.pyx\", line 658, in pygpu.gpuarray.init\n",
      "  File \"pygpu/gpuarray.pyx\", line 587, in pygpu.gpuarray.pygpu_init\n",
      "pygpu.gpuarray.GpuArrayException: b'cuInit: CUDA_ERROR_NO_DEVICE: no CUDA-capable device is detected'\n"
     ]
    }
   ],
   "source": [
    "import sys,os\n",
    "import pickle\n",
    "import anndata\n",
    "import pandas as pd\n",
    "import numpy as np\n",
    "import scanpy as sc\n",
    "import matplotlib.pyplot as plt\n",
    "import seaborn as sns\n",
    "import diffxpy.api as de\n",
    "from IPython.display import Image\n",
    "data_type = 'float32'\n",
    "os.environ[\"THEANO_FLAGS\"] = 'device=cuda,floatX=' + data_type + ',force_device=True' + ',dnn.enabled=False'\n",
    "import countcorrect as cc"
   ]
  },
  {
   "cell_type": "code",
   "execution_count": 2,
   "id": "tested-plaintiff",
   "metadata": {},
   "outputs": [
    {
     "name": "stderr",
     "output_type": "stream",
     "text": [
      "/nfs/users/nfs_a/aa16/.local/lib/python3.7/site-packages/anndata/_core/anndata.py:119: ImplicitModificationWarning: Transforming to str index.\n",
      "  warnings.warn(\"Transforming to str index.\", ImplicitModificationWarning)\n"
     ]
    }
   ],
   "source": [
    "adata_wta = sc.read_h5ad(open(\"/lustre/scratch117/cellgen/team283/Kidney-Nanostring/Kidney_AnnData.h5ad\", \"rb\"))"
   ]
  },
  {
   "cell_type": "code",
   "execution_count": 3,
   "id": "fifth-carnival",
   "metadata": {},
   "outputs": [],
   "source": [
    "counts_geneProbes = np.asarray(adata_wta.X)\n",
    "counts_negativeProbes = np.asarray(adata_wta.obsm['negProbes'])\n",
    "counts_nuclei = np.asarray(adata_wta.obs['AOINucleiCount']).reshape(len(adata_wta.obs['AOINucleiCount']),1).squeeze()"
   ]
  },
  {
   "cell_type": "code",
   "execution_count": null,
   "id": "ecological-cliff",
   "metadata": {},
   "outputs": [
    {
     "name": "stdout",
     "output_type": "stream",
     "text": [
      "Initializing model...\n",
      "Fitting model ...\n"
     ]
    },
    {
     "name": "stderr",
     "output_type": "stream",
     "text": [
      "Average Loss = inf:   2%|▏         | 408/20000 [21:45<16:46:22,  3.08s/it]"
     ]
    }
   ],
   "source": [
    "X_corrected = cc.run_countcorrect(counts_geneProbes, counts_negativeProbes, counts_nuclei)"
   ]
  },
  {
   "cell_type": "code",
   "execution_count": null,
   "id": "noble-optimum",
   "metadata": {},
   "outputs": [],
   "source": [
    "adata_wta.layers['X_corrected'] = X_corrected"
   ]
  }
 ],
 "metadata": {
  "kernelspec": {
   "display_name": "Python 3",
   "language": "python",
   "name": "python3"
  },
  "language_info": {
   "codemirror_mode": {
    "name": "ipython",
    "version": 3
   },
   "file_extension": ".py",
   "mimetype": "text/x-python",
   "name": "python",
   "nbconvert_exporter": "python",
   "pygments_lexer": "ipython3",
   "version": "3.7.10"
  }
 },
 "nbformat": 4,
 "nbformat_minor": 5
}
