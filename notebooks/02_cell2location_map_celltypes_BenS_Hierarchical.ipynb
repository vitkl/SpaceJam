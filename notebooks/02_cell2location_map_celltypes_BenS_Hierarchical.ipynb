{
 "cells": [
  {
   "cell_type": "code",
   "execution_count": 1,
   "id": "funny-housing",
   "metadata": {},
   "outputs": [
    {
     "name": "stderr",
     "output_type": "stream",
     "text": [
      "Can not use cuDNN on context None: Disabled by dnn.enabled flag\n",
      "Mapped name None to device cuda: Tesla V100-SXM2-32GB (0000:62:00.0)\n"
     ]
    }
   ],
   "source": [
    "import sys,os\n",
    "import pickle\n",
    "import anndata\n",
    "import pandas as pd\n",
    "import numpy as np\n",
    "import matplotlib.pyplot as plt\n",
    "import scanpy as sc\n",
    "from IPython.display import Image\n",
    "data_type = 'float32'\n",
    "os.environ[\"THEANO_FLAGS\"] = 'device=cuda,floatX=' + data_type + ',force_device=True' + ',dnn.enabled=False'\n",
    "sys.path.insert(1, '/nfs/team205/vk7/sanger_projects/BayraktarLab/cell2location/')\n",
    "import cell2location\n",
    "#os.chdir(\"/nfs/team283/aa16/SpaceJam/\")\n",
    "os.chdir(\"/nfs/team205/vk7/sanger_projects/collaborations/SpaceJam\")\n",
    "import spacejam"
   ]
  },
  {
   "cell_type": "markdown",
   "id": "collected-abortion",
   "metadata": {},
   "source": [
    "Import our three models:"
   ]
  },
  {
   "cell_type": "code",
   "execution_count": 2,
   "id": "answering-jewelry",
   "metadata": {},
   "outputs": [],
   "source": [
    "from spacejam.models import LocationModelWTAMultiExperimentHierarchicalGeneLevel"
   ]
  },
  {
   "cell_type": "code",
   "execution_count": 3,
   "id": "compressed-headset",
   "metadata": {},
   "outputs": [],
   "source": [
    "models = [spacejam.models.LocationModelWTAMultiExperimentHierarchicalGeneLevel.LocationModelWTAMultiExperimentHierarchicalGeneLevel]"
   ]
  },
  {
   "cell_type": "markdown",
   "id": "adequate-activity",
   "metadata": {},
   "source": [
    "Load and format data:"
   ]
  },
  {
   "cell_type": "code",
   "execution_count": 4,
   "id": "nervous-period",
   "metadata": {},
   "outputs": [
    {
     "name": "stderr",
     "output_type": "stream",
     "text": [
      "/nfs/team283/vk7/software/miniconda3farm5/envs/pyro160/lib/python3.7/site-packages/anndata/_core/anndata.py:119: ImplicitModificationWarning: Transforming to str index.\n"
     ]
    }
   ],
   "source": [
    "working_dir = '/lustre/scratch117/cellgen/team283/Kidney-Nanostring/'\n",
    "adata_wta = sc.read_h5ad(f\"{working_dir}Kidney_AnnData.h5ad\")"
   ]
  },
  {
   "cell_type": "code",
   "execution_count": 5,
   "id": "seeing-insured",
   "metadata": {},
   "outputs": [],
   "source": [
    "reg_path = f\"{working_dir}scrna/regression_model/RegressionGeneBackgroundCoverageTorch_46covariates_40268cells_10882genes/\"\n",
    "adata_snrna_raw = sc.read(f'{reg_path}sc.h5ad')"
   ]
  },
  {
   "cell_type": "code",
   "execution_count": 6,
   "id": "injured-companion",
   "metadata": {},
   "outputs": [],
   "source": [
    "# Column name containing cell type annotations\n",
    "covariate_col_names = 'celltype'\n",
    "\n",
    "# Extract a pd.DataFrame with signatures from anndata object\n",
    "inf_aver = adata_snrna_raw.raw.var.copy()\n",
    "inf_aver = inf_aver.loc[:, [f'means_cov_effect_{covariate_col_names}_{i}' for i in adata_snrna_raw.obs[covariate_col_names].unique()]]\n",
    "from re import sub\n",
    "inf_aver.columns = [sub(f'means_cov_effect_{covariate_col_names}_{i}', '', i) for i in adata_snrna_raw.obs[covariate_col_names].unique()]\n",
    "inf_aver = inf_aver.iloc[:, inf_aver.columns.argsort()]\n",
    "\n",
    "# normalise by average experiment scaling factor (corrects for sequencing depth)\n",
    "inf_aver = inf_aver * adata_snrna_raw.uns['regression_mod']['post_sample_means']['sample_scaling'].mean()"
   ]
  },
  {
   "cell_type": "code",
   "execution_count": 7,
   "id": "healthy-salem",
   "metadata": {},
   "outputs": [],
   "source": [
    "counts_negativeProbes = adata_wta.obsm['negProbes']\n",
    "counts_nuclei = np.asarray(adata_wta.obs['AOINucleiCount']).reshape(len(adata_wta.obs['AOINucleiCount']),1)"
   ]
  },
  {
   "cell_type": "code",
   "execution_count": 8,
   "id": "completed-standing",
   "metadata": {},
   "outputs": [],
   "source": [
    "adata_wta.raw = adata_wta"
   ]
  },
  {
   "cell_type": "code",
   "execution_count": 9,
   "id": "integral-approach",
   "metadata": {},
   "outputs": [],
   "source": [
    "inf_aver.index = np.array(adata_snrna_raw.var.loc[inf_aver.index,'SYMBOL'])"
   ]
  },
  {
   "cell_type": "markdown",
   "id": "overhead-horizontal",
   "metadata": {},
   "source": [
    "Run cell2location:"
   ]
  },
  {
   "cell_type": "code",
   "execution_count": 10,
   "id": "graduate-louisiana",
   "metadata": {},
   "outputs": [
    {
     "name": "stdout",
     "output_type": "stream",
     "text": [
      "### Summarising single cell clusters ###\n",
      "### Creating model ### - time 0.0 min\n",
      "### Analysis name: LocationModelWTAMultiExperimentHierarchicalGeneLevel_7experiments_33clusters_231locations_9551genes_narrow_sensitivity\n",
      "### Training model ###\n"
     ]
    },
    {
     "data": {
      "text/html": [
       "\n",
       "    <div>\n",
       "        <style>\n",
       "            /* Turns off some styling */\n",
       "            progress {\n",
       "                /* gets rid of default border in Firefox and Opera. */\n",
       "                border: none;\n",
       "                /* Needs to be in here for Safari polyfill so background images work as expected. */\n",
       "                background-size: auto;\n",
       "            }\n",
       "            .progress-bar-interrupted, .progress-bar-interrupted::-webkit-progress-bar {\n",
       "                background: #F44336;\n",
       "            }\n",
       "        </style>\n",
       "      <progress value='20000' class='' max='20000' style='width:300px; height:20px; vertical-align: middle;'></progress>\n",
       "      100.00% [20000/20000 03:05<00:00 Average Loss = inf]\n",
       "    </div>\n",
       "    "
      ],
      "text/plain": [
       "<IPython.core.display.HTML object>"
      ]
     },
     "metadata": {},
     "output_type": "display_data"
    },
    {
     "name": "stderr",
     "output_type": "stream",
     "text": [
      "Finished [100%]: Average Loss = nan\n"
     ]
    },
    {
     "name": "stdout",
     "output_type": "stream",
     "text": [
      "[<matplotlib.lines.Line2D object at 0x7f31008a4050>]\n"
     ]
    },
    {
     "data": {
      "text/html": [
       "\n",
       "    <div>\n",
       "        <style>\n",
       "            /* Turns off some styling */\n",
       "            progress {\n",
       "                /* gets rid of default border in Firefox and Opera. */\n",
       "                border: none;\n",
       "                /* Needs to be in here for Safari polyfill so background images work as expected. */\n",
       "                background-size: auto;\n",
       "            }\n",
       "            .progress-bar-interrupted, .progress-bar-interrupted::-webkit-progress-bar {\n",
       "                background: #F44336;\n",
       "            }\n",
       "        </style>\n",
       "      <progress value='20000' class='' max='20000' style='width:300px; height:20px; vertical-align: middle;'></progress>\n",
       "      100.00% [20000/20000 03:04<00:00 Average Loss = inf]\n",
       "    </div>\n",
       "    "
      ],
      "text/plain": [
       "<IPython.core.display.HTML object>"
      ]
     },
     "metadata": {},
     "output_type": "display_data"
    },
    {
     "name": "stderr",
     "output_type": "stream",
     "text": [
      "Finished [100%]: Average Loss = nan\n"
     ]
    },
    {
     "name": "stdout",
     "output_type": "stream",
     "text": [
      "[<matplotlib.lines.Line2D object at 0x7f3100a9a4d0>]\n"
     ]
    },
    {
     "data": {
      "application/vnd.jupyter.widget-view+json": {
       "model_id": "24a2d82c8f564dafbfe377febc6e6ecc",
       "version_major": 2,
       "version_minor": 0
      },
      "text/plain": [
       "  0%|          | 0/24 [00:00<?, ?it/s]"
      ]
     },
     "metadata": {},
     "output_type": "display_data"
    },
    {
     "data": {
      "application/vnd.jupyter.widget-view+json": {
       "model_id": "52479d146b0a47a1852be3a6356d6b50",
       "version_major": 2,
       "version_minor": 0
      },
      "text/plain": [
       "  0%|          | 0/24 [00:00<?, ?it/s]"
      ]
     },
     "metadata": {},
     "output_type": "display_data"
    },
    {
     "name": "stderr",
     "output_type": "stream",
     "text": [
      "/nfs/team205/vk7/sanger_projects/BayraktarLab/cell2location/cell2location/models/base/pymc3_model.py:449: MatplotlibDeprecationWarning: Passing non-integers as three-element position specification is deprecated since 3.3 and will be removed two minor releases later.\n",
      "/nfs/team205/vk7/sanger_projects/BayraktarLab/cell2location/cell2location/models/base/pymc3_model.py:450: MatplotlibDeprecationWarning: Passing non-integers as three-element position specification is deprecated since 3.3 and will be removed two minor releases later.\n"
     ]
    },
    {
     "name": "stdout",
     "output_type": "stream",
     "text": [
      "### Sampling posterior ### - time 8.72 min\n"
     ]
    },
    {
     "data": {
      "application/vnd.jupyter.widget-view+json": {
       "model_id": "f749339af87b466fb006709d4bad384f",
       "version_major": 2,
       "version_minor": 0
      },
      "text/plain": [
       "  0%|          | 0/24 [00:00<?, ?it/s]"
      ]
     },
     "metadata": {},
     "output_type": "display_data"
    },
    {
     "name": "stdout",
     "output_type": "stream",
     "text": [
      "### Saving results ###\n",
      "### Ploting results ###\n",
      "[<matplotlib.lines.Line2D object at 0x7f30fbec9890>]\n",
      "[<matplotlib.lines.Line2D object at 0x7f30fbec9850>]\n",
      "[<matplotlib.lines.Line2D object at 0x7f30f5201550>]\n",
      "[<matplotlib.lines.Line2D object at 0x7f30ff6eb1d0>]\n",
      "### Plotting posterior of W / cell locations ###\n",
      "Some error in plotting with scanpy or `cell2location.plt.plot_factor_spatial()`\n",
      " KeyError('spatial')\n",
      "### Done ### - time 9.57 min\n"
     ]
    }
   ],
   "source": [
    "for m in [models[0]]:\n",
    "    cell2location.run_c2l.run_cell2location(inf_aver, adata_wta, \n",
    "            model_name=m,\n",
    "            export_args={'path': f\"{working_dir}results/\",\n",
    "                         'run_name_suffix': '_narrow_sensitivity'},\n",
    "            train_args={'use_raw': True, 'n_iter': 20000, 'sample_name_col': 'SlideName'},\n",
    "            model_kwargs={\n",
    "            \"Y_data\" : counts_negativeProbes,\n",
    "            \"gene_level_prior\": {'mean': 1 / 2, 'sd': 1 / 4, 'sample_alpha': 20},\n",
    "            \"cell_number_prior\" : {'cells_per_spot': counts_nuclei, \n",
    "                                   'factors_per_spot': 7, 'combs_per_spot': 7},\n",
    "            \"cell_number_var_prior\" : {'cells_mean_var_ratio': 1, \n",
    "                                       'factors_mean_var_ratio': 1, 'combs_mean_var_ratio': 1}})"
   ]
  },
  {
   "cell_type": "code",
   "execution_count": 11,
   "id": "f1e74bff",
   "metadata": {},
   "outputs": [
    {
     "name": "stdout",
     "output_type": "stream",
     "text": [
      "### Summarising single cell clusters ###\n",
      "### Creating model ### - time 0.0 min\n",
      "### Analysis name: LocationModelWTAMultiExperimentHierarchicalGeneLevel_7experiments_33clusters_231locations_9551genes_narrow_counts_nuclei\n",
      "### Training model ###\n"
     ]
    },
    {
     "data": {
      "text/html": [
       "\n",
       "    <div>\n",
       "        <style>\n",
       "            /* Turns off some styling */\n",
       "            progress {\n",
       "                /* gets rid of default border in Firefox and Opera. */\n",
       "                border: none;\n",
       "                /* Needs to be in here for Safari polyfill so background images work as expected. */\n",
       "                background-size: auto;\n",
       "            }\n",
       "            .progress-bar-interrupted, .progress-bar-interrupted::-webkit-progress-bar {\n",
       "                background: #F44336;\n",
       "            }\n",
       "        </style>\n",
       "      <progress value='20000' class='' max='20000' style='width:300px; height:20px; vertical-align: middle;'></progress>\n",
       "      100.00% [20000/20000 03:05<00:00 Average Loss = inf]\n",
       "    </div>\n",
       "    "
      ],
      "text/plain": [
       "<IPython.core.display.HTML object>"
      ]
     },
     "metadata": {},
     "output_type": "display_data"
    },
    {
     "name": "stderr",
     "output_type": "stream",
     "text": [
      "Finished [100%]: Average Loss = nan\n"
     ]
    },
    {
     "name": "stdout",
     "output_type": "stream",
     "text": [
      "[<matplotlib.lines.Line2D object at 0x7f30f1b79f10>]\n"
     ]
    },
    {
     "data": {
      "text/html": [
       "\n",
       "    <div>\n",
       "        <style>\n",
       "            /* Turns off some styling */\n",
       "            progress {\n",
       "                /* gets rid of default border in Firefox and Opera. */\n",
       "                border: none;\n",
       "                /* Needs to be in here for Safari polyfill so background images work as expected. */\n",
       "                background-size: auto;\n",
       "            }\n",
       "            .progress-bar-interrupted, .progress-bar-interrupted::-webkit-progress-bar {\n",
       "                background: #F44336;\n",
       "            }\n",
       "        </style>\n",
       "      <progress value='20000' class='' max='20000' style='width:300px; height:20px; vertical-align: middle;'></progress>\n",
       "      100.00% [20000/20000 03:04<00:00 Average Loss = inf]\n",
       "    </div>\n",
       "    "
      ],
      "text/plain": [
       "<IPython.core.display.HTML object>"
      ]
     },
     "metadata": {},
     "output_type": "display_data"
    },
    {
     "name": "stderr",
     "output_type": "stream",
     "text": [
      "Finished [100%]: Average Loss = nan\n"
     ]
    },
    {
     "name": "stdout",
     "output_type": "stream",
     "text": [
      "[<matplotlib.lines.Line2D object at 0x7f30f97491d0>]\n"
     ]
    },
    {
     "data": {
      "application/vnd.jupyter.widget-view+json": {
       "model_id": "2c25625ec15c4bc0a8d7328d2dec22b8",
       "version_major": 2,
       "version_minor": 0
      },
      "text/plain": [
       "  0%|          | 0/24 [00:00<?, ?it/s]"
      ]
     },
     "metadata": {},
     "output_type": "display_data"
    },
    {
     "data": {
      "application/vnd.jupyter.widget-view+json": {
       "model_id": "c5f0722c849d4451bff245bb447b183b",
       "version_major": 2,
       "version_minor": 0
      },
      "text/plain": [
       "  0%|          | 0/24 [00:00<?, ?it/s]"
      ]
     },
     "metadata": {},
     "output_type": "display_data"
    },
    {
     "name": "stderr",
     "output_type": "stream",
     "text": [
      "/nfs/team205/vk7/sanger_projects/BayraktarLab/cell2location/cell2location/models/base/pymc3_model.py:449: MatplotlibDeprecationWarning: Passing non-integers as three-element position specification is deprecated since 3.3 and will be removed two minor releases later.\n",
      "/nfs/team205/vk7/sanger_projects/BayraktarLab/cell2location/cell2location/models/base/pymc3_model.py:450: MatplotlibDeprecationWarning: Passing non-integers as three-element position specification is deprecated since 3.3 and will be removed two minor releases later.\n"
     ]
    },
    {
     "name": "stdout",
     "output_type": "stream",
     "text": [
      "### Sampling posterior ### - time 8.22 min\n"
     ]
    },
    {
     "data": {
      "application/vnd.jupyter.widget-view+json": {
       "model_id": "634bbbd976e84eae8be77911b0b5d55d",
       "version_major": 2,
       "version_minor": 0
      },
      "text/plain": [
       "  0%|          | 0/24 [00:00<?, ?it/s]"
      ]
     },
     "metadata": {},
     "output_type": "display_data"
    },
    {
     "name": "stdout",
     "output_type": "stream",
     "text": [
      "### Saving results ###\n",
      "### Ploting results ###\n",
      "[<matplotlib.lines.Line2D object at 0x7f31069a3610>]\n",
      "[<matplotlib.lines.Line2D object at 0x7f30fd060810>]\n",
      "[<matplotlib.lines.Line2D object at 0x7f31219a18d0>]\n",
      "[<matplotlib.lines.Line2D object at 0x7f30f9982f90>]\n",
      "### Plotting posterior of W / cell locations ###\n",
      "Some error in plotting with scanpy or `cell2location.plt.plot_factor_spatial()`\n",
      " KeyError('spatial')\n",
      "### Done ### - time 9.02 min\n"
     ]
    }
   ],
   "source": [
    "for m in [models[0]]:\n",
    "    cell2location.run_c2l.run_cell2location(inf_aver, adata_wta, \n",
    "            model_name=m,\n",
    "            export_args={'path': f\"{working_dir}results/\",\n",
    "                         'run_name_suffix': '_narrow_counts_nuclei'},\n",
    "            train_args={'use_raw': True, 'n_iter': 20000, 'sample_name_col': 'SlideName'},\n",
    "            model_kwargs={\n",
    "            \"Y_data\" : counts_negativeProbes,\n",
    "            \"gene_level_prior\": {'mean': 1 / 2, 'sd': 1 / 4, 'sample_alpha': 2},\n",
    "            \"cell_number_prior\" : {'cells_per_spot': counts_nuclei, \n",
    "                                   'factors_per_spot': 7, 'combs_per_spot': 7},\n",
    "            \"cell_number_var_prior\" : {'cells_mean_var_ratio': 10, \n",
    "                                       'factors_mean_var_ratio': 1, 'combs_mean_var_ratio': 1}})"
   ]
  },
  {
   "cell_type": "code",
   "execution_count": null,
   "id": "light-spirituality",
   "metadata": {},
   "outputs": [],
   "source": []
  }
 ],
 "metadata": {
  "kernelspec": {
   "display_name": "Python (pyro160)",
   "language": "python",
   "name": "pyro160"
  },
  "language_info": {
   "codemirror_mode": {
    "name": "ipython",
    "version": 3
   },
   "file_extension": ".py",
   "mimetype": "text/x-python",
   "name": "python",
   "nbconvert_exporter": "python",
   "pygments_lexer": "ipython3",
   "version": "3.7.10"
  }
 },
 "nbformat": 4,
 "nbformat_minor": 5
}
