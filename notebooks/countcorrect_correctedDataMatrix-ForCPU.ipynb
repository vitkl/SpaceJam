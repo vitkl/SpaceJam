{
 "cells": [
  {
   "cell_type": "markdown",
   "id": "organizational-performer",
   "metadata": {},
   "source": [
    "Script gets background corrected data using the naive method or countcorrect with a small number of iterations suitable for cpu work."
   ]
  },
  {
   "cell_type": "code",
   "execution_count": 14,
   "id": "tender-joshua",
   "metadata": {},
   "outputs": [],
   "source": [
    "import sys,os\n",
    "import pickle\n",
    "import anndata\n",
    "import pandas as pd\n",
    "import numpy as np\n",
    "import scanpy as sc\n",
    "import matplotlib.pyplot as plt\n",
    "import seaborn as sns\n",
    "data_type = 'float32'\n",
    "os.environ[\"THEANO_FLAGS\"] = 'device=cuda,floatX=' + data_type + ',force_device=True' + ',dnn.enabled=False'\n",
    "import countcorrect as cc"
   ]
  },
  {
   "cell_type": "code",
   "execution_count": 10,
   "id": "unlimited-vertical",
   "metadata": {},
   "outputs": [],
   "source": [
    "adata_wta = sc.read_h5ad(open(\"/lustre/scratch117/cellgen/team283/Kidney-Nanostring/Kidney_AnnData_2.h5ad\", \"rb\"))"
   ]
  },
  {
   "cell_type": "code",
   "execution_count": 3,
   "id": "closed-multimedia",
   "metadata": {},
   "outputs": [],
   "source": [
    "counts_geneProbes = np.asarray(adata_wta.X)\n",
    "counts_negativeProbes = np.asarray(adata_wta.obsm['negProbes'])\n",
    "counts_nuclei = np.asarray(adata_wta.obs['AOINucleiCount']).reshape(len(adata_wta.obs['AOINucleiCount']),1).squeeze()"
   ]
  },
  {
   "cell_type": "code",
   "execution_count": 12,
   "id": "conscious-broadcasting",
   "metadata": {},
   "outputs": [],
   "source": [
    "X_corrected = cc.run_countcorrect(counts_geneProbes, counts_negativeProbes, counts_nuclei, naive = True)"
   ]
  },
  {
   "cell_type": "code",
   "execution_count": 13,
   "id": "heard-consideration",
   "metadata": {},
   "outputs": [],
   "source": [
    "adata_wta.layers['X_naive'] = X_corrected"
   ]
  },
  {
   "cell_type": "code",
   "execution_count": 8,
   "id": "prostate-effects",
   "metadata": {},
   "outputs": [
    {
     "name": "stdout",
     "output_type": "stream",
     "text": [
      "Initializing model...\n",
      "Fitting model ...\n"
     ]
    },
    {
     "name": "stderr",
     "output_type": "stream",
     "text": [
      "Average Loss = inf: 100%|██████████| 1000/1000 [42:28<00:00,  2.55s/it]\n",
      "Finished [100%]: Average Loss = nan\n"
     ]
    },
    {
     "name": "stdout",
     "output_type": "stream",
     "text": [
      "[<matplotlib.lines.Line2D object at 0x15161a692690>]\n",
      "[<matplotlib.lines.Line2D object at 0x15161a22c250>]\n"
     ]
    },
    {
     "data": {
      "image/png": "[encoded data removed]",
      "text/plain": [
       "<Figure size 432x288 with 1 Axes>"
      ]
     },
     "metadata": {
      "needs_background": "light"
     },
     "output_type": "display_data"
    },
    {
     "name": "stdout",
     "output_type": "stream",
     "text": [
      "[<matplotlib.lines.Line2D object at 0x151619fc6510>]\n"
     ]
    },
    {
     "data": {
      "image/png": "[encoded data removed]",
      "text/plain": [
       "<Figure size 432x288 with 1 Axes>"
      ]
     },
     "metadata": {
      "needs_background": "light"
     },
     "output_type": "display_data"
    },
    {
     "name": "stdout",
     "output_type": "stream",
     "text": [
      "Sampling from posterior distribution...\n",
      "Done.\n"
     ]
    }
   ],
   "source": [
    "X_corrected = cc.run_countcorrect(counts_geneProbes, counts_negativeProbes, counts_nuclei, total_iterations = 1000)"
   ]
  },
  {
   "cell_type": "code",
   "execution_count": 11,
   "id": "velvet-cradle",
   "metadata": {},
   "outputs": [],
   "source": [
    "adata_wta.layers['X_corrected_cpu'] = X_corrected"
   ]
  },
  {
   "cell_type": "code",
   "execution_count": 17,
   "id": "rolled-museum",
   "metadata": {},
   "outputs": [],
   "source": [
    "adata_wta.write_h5ad('/lustre/scratch117/cellgen/team283/Kidney-Nanostring/Kidney_AnnData_3.h5ad')"
   ]
  }
 ],
 "metadata": {
  "kernelspec": {
   "display_name": "Python 3",
   "language": "python",
   "name": "python3"
  },
  "language_info": {
   "codemirror_mode": {
    "name": "ipython",
    "version": 3
   },
   "file_extension": ".py",
   "mimetype": "text/x-python",
   "name": "python",
   "nbconvert_exporter": "python",
   "pygments_lexer": "ipython3",
   "version": "3.7.10"
  }
 },
 "nbformat": 4,
 "nbformat_minor": 5
}
